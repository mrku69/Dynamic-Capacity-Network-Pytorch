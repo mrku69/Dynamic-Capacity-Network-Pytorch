{
  "nbformat": 4,
  "nbformat_minor": 0,
  "metadata": {
    "colab": {
      "name": "DCN MNIST.ipynb",
      "version": "0.3.2",
      "provenance": [],
      "collapsed_sections": [],
      "include_colab_link": true
    },
    "kernelspec": {
      "name": "python3",
      "display_name": "Python 3"
    },
    "accelerator": "GPU"
  },
  "cells": [
    {
      "cell_type": "markdown",
      "metadata": {
        "id": "view-in-github",
        "colab_type": "text"
      },
      "source": [
        "<a href=\"https://colab.research.google.com/github/philqc/Dynamic-Capacity-Network/blob/master/DCN_MNIST.ipynb\" target=\"_parent\"><img src=\"https://colab.research.google.com/assets/colab-badge.svg\" alt=\"Open In Colab\"/></a>"
      ]
    },
    {
      "metadata": {
        "id": "zm_IE8lF0Yjz",
        "colab_type": "text"
      },
      "cell_type": "markdown",
      "source": [
        "Dynamic Capacity Network  (DCN) implentation using pytorch. This specific code is for MNIST\n",
        "but it is pretty easy to change the data set as all functions related to the DCN are generalized\n",
        "to take any data set, patch size, # of patches, etc. \n",
        "\n",
        "---\n",
        "\n",
        "\n",
        "Author:  Philippe Beardsell\n",
        "\n",
        "---\n",
        "\n",
        "\n",
        "\n",
        "Based on Tensorflow implementation from Sangheum Hwang found at https://github.com/beopst/dcn.tf"
      ]
    },
    {
      "metadata": {
        "id": "w_Vd_8Fa6A2J",
        "colab_type": "code",
        "colab": {}
      },
      "cell_type": "code",
      "source": [
        "# http://pytorch.org/\n",
        "from os.path import exists\n",
        "from wheel.pep425tags import get_abbr_impl, get_impl_ver, get_abi_tag\n",
        "platform = '{}{}-{}'.format(get_abbr_impl(), get_impl_ver(), get_abi_tag())\n",
        "cuda_output = !ldconfig -p|grep cudart.so|sed -e 's/.*\\.\\([0-9]*\\)\\.\\([0-9]*\\)$/cu\\1\\2/'\n",
        "accelerator = cuda_output[0] if exists('/dev/nvidia0') else 'cpu'\n",
        "\n",
        "!pip install -q http://download.pytorch.org/whl/{accelerator}/torch-0.4.1-{platform}-linux_x86_64.whl torchvision\n",
        "import torch\n",
        "import numpy as np\n",
        "import torch\n",
        "import torch.nn as nn\n",
        "import torch.nn.functional as F\n",
        "import torch.optim as optim\n",
        "import matplotlib.pyplot as plt\n",
        "import matplotlib.cm as cm\n",
        "from torch.utils.data.dataset import Dataset  # For custom datasets\n",
        "from torchvision import datasets, transforms, utils\n",
        "from torch.utils.data import DataLoader\n",
        "from torch.utils.data.sampler import SubsetRandomSampler\n",
        "import random\n",
        "from os.path import exists\n",
        "import os\n",
        "import pickle\n",
        "import csv\n",
        "import time\n",
        "import math\n",
        "import imageio\n",
        "from matplotlib.patches import Rectangle\n",
        "from torch.autograd import Variable"
      ],
      "execution_count": 0,
      "outputs": []
    },
    {
      "metadata": {
        "id": "-Mp6IUUntJJy",
        "colab_type": "code",
        "colab": {
          "base_uri": "https://localhost:8080/",
          "height": 34
        },
        "outputId": "5ee21dbb-cfbd-4b39-b9fb-cc7e11c41ff2"
      },
      "cell_type": "code",
      "source": [
        "from google.colab import drive\n",
        "drive.mount('/content/drive')"
      ],
      "execution_count": 2,
      "outputs": [
        {
          "output_type": "stream",
          "text": [
            "Drive already mounted at /content/drive; to attempt to forcibly remount, call drive.mount(\"/content/drive\", force_remount=True).\n"
          ],
          "name": "stdout"
        }
      ]
    },
    {
      "metadata": {
        "id": "f-443BrD5_yb",
        "colab_type": "code",
        "outputId": "8470174d-4f94-4308-9b44-b6751faa7591",
        "colab": {
          "base_uri": "https://localhost:8080/",
          "height": 161
        }
      },
      "cell_type": "code",
      "source": [
        "\n",
        "image_size = 100\n",
        "  \n",
        "batch_size = 128\n",
        "batch_size_eval = 512\n",
        "  \n",
        "\n",
        "added_path = 'drive/My Drive/mnist-cluttered-master/'\n",
        "set_classes = ('0', '1', '2', '3', '4', '5', '6', '7', '8', '9')\n",
        "  \n",
        "num_classes = 10\n",
        "\n",
        "assert len(set_classes) == num_classes\n",
        "\n",
        "# If a GPU is available, use it\n",
        "if torch.cuda.is_available():\n",
        "    device = torch.device(\"cuda\")\n",
        "    use_cuda = True\n",
        "    print('Using cuda !')\n",
        "else:\n",
        "    device = torch.device(\"cpu\")\n",
        "    use_cuda = False\n",
        "    print('GPU not available !')\n",
        "\n",
        "\n",
        "class CustomDataset(Dataset):\n",
        "    def __init__(self, data_path, label_path=None, transform=None):\n",
        "        \"\"\"\n",
        "        Args:\n",
        "            label_path (string): path to .txt file\n",
        "            data_path (string): path to the folder where images are\n",
        "            transform (callable, optional): Optional transform to be applied\n",
        "               on a sample.\n",
        "        \"\"\"\n",
        "\n",
        "        # Read the npy file\n",
        "        self.data = np.load(data_path)\n",
        "          \n",
        "        # Calculate len\n",
        "        self.data_len = len(self.data)\n",
        "        \n",
        "        # Read the txt file\n",
        "        if label_path:\n",
        "            self.label_arr = np.load(label_path, encoding='latin1')\n",
        "        else:\n",
        "            # Test set ! no labels available\n",
        "            self.label_arr = np.zeros(self.data_len)\n",
        "\n",
        "        self.transform = transform\n",
        "\n",
        "    def __getitem__(self, index):\n",
        "\n",
        "        # Get image label as integer .txt file\n",
        "        label = int(self.label_arr[index])\n",
        "        \n",
        "        # data has 1-10 notation..\n",
        "        label -= 1\n",
        "\n",
        "        # Open image\n",
        "        sample = (self.data[index]).reshape(1, image_size, image_size)\n",
        "        \n",
        "        sample = torch.from_numpy(sample)\n",
        "\n",
        "        if self.transform:\n",
        "            sample = self.transform(sample)\n",
        "\n",
        "        return sample, label\n",
        "\n",
        "    def __len__(self):\n",
        "        return self.data_len\n",
        "\n",
        "\n",
        "# Augment data with small rotation\n",
        "\n",
        "transform_train = transforms.Compose([\n",
        "    # need to transform to pili image to  apply transforms\n",
        "    transforms.ToPILImage(),\n",
        "    transforms.RandomRotation((-30, 30)),\n",
        "    transforms.ToTensor(),\n",
        "    transforms.Normalize((0.1307,), (0.3081,))\n",
        "])\n",
        "  \n",
        "    \n",
        "transform_test = transforms.Compose([\n",
        "    transforms.ToPILImage(),\n",
        "    transforms.ToTensor(),\n",
        "    transforms.Normalize((0.1307,), (0.3081,))\n",
        "])\n",
        "\n",
        "\n",
        "train_data = CustomDataset(added_path + 'train_images.npy',\n",
        "                           added_path + 'train_labels.npy',\n",
        "                           transform_train)\n",
        "\n",
        "n_train_images = len(train_data)\n",
        "\n",
        "valid_data = CustomDataset(added_path + 'valid_images.npy',\n",
        "                           added_path + 'valid_labels.npy', \n",
        "                           transform_test)\n",
        "\n",
        "n_valid_images = len(valid_data)\n",
        "\n",
        "test_data = CustomDataset(added_path + 'test_images.npy',\n",
        "                          added_path + 'test_labels.npy',\n",
        "                          transform_test)\n",
        "\n",
        "n_test_images = len(test_data)\n",
        "\n",
        " \n",
        "train_loader = DataLoader(\n",
        "    train_data,\n",
        "    batch_size=batch_size,\n",
        "    pin_memory=use_cuda\n",
        ")\n",
        "\n",
        "valid_loader = DataLoader(\n",
        "    valid_data,\n",
        "    batch_size=batch_size_eval,\n",
        "    pin_memory=use_cuda,\n",
        ")\n",
        "\n",
        "test_loader = DataLoader(\n",
        "    test_data,\n",
        "    batch_size=batch_size_eval,\n",
        "    pin_memory=use_cuda,\n",
        ")\n",
        "\n",
        "\n",
        "def print_some_image(loader, n_images):\n",
        "    # visualize and understand the data\n",
        "    # get some random training images\n",
        "    dataiter = iter(train_loader)\n",
        "    images, labels = dataiter.next()\n",
        "    # show images\n",
        "    imshow(utils.make_grid(images[:n_images]))\n",
        "    # print labels\n",
        "    print(' '.join('  %5s  ' % set_classes[labels[j]] for j in range(n_images)))\n",
        "    \n",
        "\n",
        "# visualize and understand the data\n",
        "def imshow(img):\n",
        "    npimg = img.numpy()\n",
        "    plt.imshow(img[0, :, :], cmap='Greys_r')\n",
        "    \n",
        "    \n",
        "def print_one_image(img, label):\n",
        "    plt.figure()\n",
        "    plt.imshow(img[0, :, :], cmap='Greys_r')\n",
        "    plt.title(label)\n",
        "    plt.show()\n",
        "        \n",
        "\n",
        "def compute_RF_numerical(net, img_np):\n",
        "    \"\"\"\"\n",
        "    Taken FROM : https://github.com/rogertrullo/Receptive-Field-in-Pytorch/blob/master/compute_RF.py\n",
        "    compute receptive field of convnet, to be able to find salient patches\n",
        "    @param net: Pytorch network\n",
        "    @param img_np: numpy array to use as input to the networks, it must be full of ones and with the correct\n",
        "    shape.\n",
        "    \"\"\"\n",
        "    grads_img = {}\n",
        "\n",
        "    def save_grad(name):\n",
        "        def hook(grad):\n",
        "            grads_img[name] = grad\n",
        "\n",
        "        return hook\n",
        "      \n",
        "     \n",
        "    def weights_init(m):\n",
        "        classname = m.__class__.__name__\n",
        "        if classname.find('Conv') != -1:\n",
        "            m.weight.data.fill_(1)\n",
        "            m.bias.data.fill_(0)\n",
        "    \n",
        "    net.apply(weights_init)\n",
        "    image = Variable(torch.from_numpy(img_np).float(), requires_grad=True).to(device)\n",
        "    out_cnn = net(image)\n",
        "    out_shape = out_cnn.size()\n",
        "    ndims = len(out_cnn.size())\n",
        "\n",
        "    grad = torch.zeros(out_cnn.size()).to(device)\n",
        "    l_tmp = []\n",
        "\n",
        "    for i in range(ndims):\n",
        "        if i == 0 or i == 1:  # batch or channel\n",
        "            l_tmp.append(0)\n",
        "        else:\n",
        "            l_tmp.append(int(out_shape[i] / 2))\n",
        "\n",
        "    print(tuple(l_tmp))\n",
        "    grad[tuple(l_tmp)] = 1\n",
        "    \n",
        "    image.register_hook(save_grad('y'))\n",
        "    out_cnn.backward(gradient=grad)\n",
        "    \n",
        "    grad_np = grads_img['y'][0, 0].data.cpu().numpy()\n",
        "    idx_nonzeros = np.where(grad_np != 0)\n",
        "    RF = [np.max(idx)-np.min(idx) + 1 for idx in idx_nonzeros]\n",
        "\n",
        "    return RF, out_cnn.size()\n",
        "  \n",
        "  \n",
        "\n",
        "print_some_image(train_loader, 6)\n"
      ],
      "execution_count": 4,
      "outputs": [
        {
          "output_type": "stream",
          "text": [
            "Using cuda !\n",
            "      9         2         4         5         2         4  \n"
          ],
          "name": "stdout"
        },
        {
          "output_type": "display_data",
          "data": {
            "image/png": "[encoded data removed]",
            "text/plain": [
              "<Figure size 576x396 with 1 Axes>"
            ]
          },
          "metadata": {
            "tags": []
          }
        }
      ]
    },
    {
      "metadata": {
        "id": "YJhFezv9xqfN",
        "colab_type": "text"
      },
      "cell_type": "markdown",
      "source": [
        "Coarse Model Here"
      ]
    },
    {
      "metadata": {
        "id": "bg8unAGDxpPB",
        "colab_type": "code",
        "colab": {}
      },
      "cell_type": "code",
      "source": [
        "######## Info about coarse layers to extract patches\n",
        "# Define the coarse layers for both the extract patches methods and\n",
        "# for the actually definition of the ConvLayer\n",
        "# [0] = kernel size, [1] = stride, [2] = padding\n",
        "coarse_layers = [[7, 2, 0], [3, 2, 0]]\n",
        "currentLayer = [image_size, 1, 1, 0.5]\n",
        "\n",
        "\n",
        "class CoarseLayers(nn.Module):\n",
        "    \"\"\" Coarse layers: 2 convolutional layers, with 7 x 7 and\n",
        "        3 x 3 filter sizes, 12 and 24 filters, respectively, and a\n",
        "        2 x 2 stride. Each feature in the coarse feature maps\n",
        "        covers a patch of size 11x11 pixels, which we extend\n",
        "        by 3 pixels in each side to give the fine layers more\n",
        "        context. The size of the coarse feature map is 23 x 23. (DCN Paper)\n",
        "    \"\"\"\n",
        "\n",
        "    def __init__(self, test_receptive_field):\n",
        "        super().__init__()\n",
        "        \n",
        "        self.conv1 = nn.Conv2d(1, n_filters, kernel_size=coarse_layers[0][0],\n",
        "                               stride=coarse_layers[0][1], padding=coarse_layers[0][2])\n",
        "        self.bn1 = nn.BatchNorm2d(n_filters)\n",
        "        self.conv2 = nn.Conv2d(n_filters, 2 * n_filters, kernel_size=coarse_layers[1][0],\n",
        "                               stride=coarse_layers[1][1], padding=coarse_layers[1][2])\n",
        "        self.bn2 = nn.BatchNorm2d(2 * n_filters)\n",
        "\n",
        "        self.test_receptive_field = test_receptive_field\n",
        "\n",
        "    def forward(self, x):\n",
        "        # need to turn off batchnorm\n",
        "        # before using the compute receptive field function\n",
        "        # x is [batch_size, channels, height, width] = [bs, 1, 100, 100]\n",
        "        if self.test_receptive_field:\n",
        "            x = F.relu(self.conv1(x))\n",
        "            x = F.relu(self.conv2(x))\n",
        "        else:\n",
        "            x = F.relu(self.bn1(self.conv1(x)))\n",
        "            x = F.relu(self.bn2(self.conv2(x)))\n",
        "\n",
        "        return x\n",
        "\n",
        "\n",
        "#########################################################\n",
        "def outFromIn(conv, layerIn):\n",
        "    \"\"\" Taken from \n",
        "    https://medium.com/mlreview/a-guide-to-receptive-field\n",
        "    -arithmetic-for-convolutional-neural-networks-e0f514068807\n",
        "    \n",
        "    Computes receptive field and relevant variables\n",
        "    to compute the coordinates of the salient patches \n",
        "    for the coarse model\n",
        "    \"\"\"\n",
        "    n_in = layerIn[0]\n",
        "    j_in = layerIn[1]\n",
        "    r_in = layerIn[2]\n",
        "    start_in = layerIn[3]\n",
        "    k = conv[0]\n",
        "    s = conv[1]\n",
        "    p = conv[2]\n",
        "\n",
        "    n_out = math.floor((n_in - k + 2 * p) / s) + 1\n",
        "    actualP = (n_out - 1) * s - n_in + k\n",
        "    pR = math.ceil(actualP / 2)\n",
        "    pL = math.floor(actualP / 2)\n",
        "\n",
        "    j_out = j_in * s\n",
        "    r_out = r_in + (k - 1) * j_in\n",
        "    start_out = start_in + ((k - 1) / 2 - pL) * j_in\n",
        "    return n_out, j_out, r_out, start_out\n",
        "\n",
        "\n",
        "layer_infos = []\n",
        "for i in range(len(coarse_layers)):\n",
        "    currentLayer = outFromIn(coarse_layers[i], currentLayer)\n",
        "    layer_infos.append(currentLayer)\n",
        "    \n",
        "####################################\n",
        "# Variables of the receptive field of our coarse model\n",
        "# So that we can compute efficiently the top left corner of\n",
        "# the patch of the salient features\n",
        "####################################\n",
        "\n",
        "# jump of pixels in put for each index   \n",
        "jump_get_top = layer_infos[-1][1]\n",
        "receptive_field = layer_infos[-1][2]\n",
        "length_half = (receptive_field / 2.0)\n",
        "# If added padding add it here, here padding = 3\n",
        "length_half += (3 / 2.0)\n",
        "start_get_top = layer_infos[-1][3] - length_half\n",
        "\n",
        "def get_top_left_patches(indexes, map_h):\n",
        "    \"\"\" \n",
        "    Taken from \n",
        "    https://medium.com/mlreview/a-guide-to-receptive-field\n",
        "    -arithmetic-for-convolutional-neural-networks-e0f514068807\n",
        "    (with small modifications)\n",
        "     returns top left coordinates of the rectangle of the patch\n",
        "     @params: map_h = feature_map height (size of output of coarse model)\n",
        "              indexes = indexes in the feature map of salient patch\n",
        "    \"\"\"\n",
        "    # indexes [i, j] are now flattened\n",
        "    # consider x axis from left to right, and y axis from top to bottowm\n",
        "    # for example if index = map_h - 1, then idx_x = map_h - 1, and idx_y = 0\n",
        "    indexes = indexes.long().to(device)\n",
        "    idx_y = indexes / map_h\n",
        "    idx_x = torch.fmod(indexes, map_h)\n",
        "           \n",
        "    # n = layer_infos[-1][0]\n",
        "    #assert (x < n for x in idx_x)\n",
        "    #assert (y < n for y in idx_y)\n",
        "    \n",
        "    # Coordinates are (0, 0) at top left of image\n",
        "    # so moving right increase X, and moving down increase Y\n",
        "    # we take top left coordinates of rectangle\n",
        "    x_top_left = (start_get_top + idx_x * jump_get_top).view(-1, 1)\n",
        "    y_top_left = (start_get_top + idx_y * jump_get_top).view(-1, 1)\n",
        "    #print('x_top_left = ', x_top_left, ' y_top_left = ', y_top_left)\n",
        "\n",
        "    coords = torch.cat((x_top_left, y_top_left), 1)  # .to(device)\n",
        "\n",
        "    return coords, idx_x, idx_y\n",
        "\n",
        "################################################\n",
        "\n",
        "\n"
      ],
      "execution_count": 0,
      "outputs": []
    },
    {
      "metadata": {
        "id": "CLiAyBJe5mas",
        "colab_type": "code",
        "outputId": "fd50e2d8-e4f3-4288-e650-da7b6642ec3a",
        "colab": {
          "base_uri": "https://localhost:8080/",
          "height": 119
        }
      },
      "cell_type": "code",
      "source": [
        "#####################################################\n",
        "# n_patches fed into fine layers\n",
        "n_patches = 8\n",
        "n_filters = 12\n",
        "n_filters_input_top = 24\n",
        "# Turn hint_loss on/off\n",
        "add_hint_loss = True\n",
        "only_coarse_model = False\n",
        "only_fine_model = False\n",
        "size_patch = [14, 14]\n",
        "# both can't be true !\n",
        "assert not(only_fine_model and only_coarse_model)\n",
        "\n",
        "\n",
        "class FineLayers(nn.Module):\n",
        "    \"\"\" Fine layers: 5 convolutional layers, each with 3 x 3\n",
        "        filter sizes, 1x1 strides, and 24 filters. We apply 2x2\n",
        "        pooling with 2 x 2 stride after the second and fourth\n",
        "        layers. We also use 1 x 1 zero padding in all layers\n",
        "        except for the first and last layers. This architecture\n",
        "        was chosen so that it maps a 14 x 14 patch into one\n",
        "        spatial location. (DCN paper)\n",
        "    \"\"\"\n",
        "\n",
        "    def __init__(self, test_receptive_field):\n",
        "        super().__init__()\n",
        "        # input 100x100 images\n",
        "\n",
        "        self.conv1 = nn.Conv2d(1, n_filters_input_top, kernel_size=3, padding=0, stride=1)\n",
        "        self.bn1 = nn.BatchNorm2d(n_filters_input_top)\n",
        "        self.conv2 = nn.Conv2d(n_filters_input_top,  n_filters_input_top, kernel_size=3, padding=1, stride=1)\n",
        "        self.bn2 = nn.BatchNorm2d(n_filters_input_top)\n",
        "        # max pool here\n",
        "        self.conv3 = nn.Conv2d(n_filters_input_top,  n_filters_input_top, kernel_size=3, padding=1, stride=1)\n",
        "        self.bn3 = nn.BatchNorm2d(n_filters_input_top)\n",
        "        self.conv4 = nn.Conv2d(n_filters_input_top, n_filters_input_top, kernel_size=3, padding=1, stride=1)\n",
        "        self.bn4 = nn.BatchNorm2d(n_filters_input_top)\n",
        "        # max pool here\n",
        "\n",
        "        self.conv5 = nn.Conv2d(n_filters_input_top, n_filters_input_top, kernel_size=3, padding=0, stride=1)\n",
        "        self.bn5 = nn.BatchNorm2d(n_filters_input_top)\n",
        "\n",
        "        self.test_receptive_field = test_receptive_field\n",
        "\n",
        "    def forward(self, x):\n",
        "        # x is [batch_size, channels, height, width] = [bs, 1, 100, 100]\n",
        "\n",
        "        if self.test_receptive_field:\n",
        "            # average pooling instead of max pooling for computing receptive field\n",
        "            # https://github.com/rogertrullo/Receptive-Field-in-Pytorch\n",
        "            x = F.relu(self.conv1(x))\n",
        "            x = F.relu(self.conv2(x))\n",
        "            x = F.avg_pool2d(x, 2, stride=2)\n",
        "            x = F.relu(self.conv3(x))\n",
        "            x = F.relu(self.conv4(x))\n",
        "            x = F.avg_pool2d(x, 2, stride=2)\n",
        "            x = F.relu(self.conv5(x))\n",
        "\n",
        "        else:\n",
        "            x = F.relu(self.bn1(self.conv1(x)))\n",
        "            x = F.relu(self.bn2(self.conv2(x)))\n",
        "            x = F.max_pool2d(x, 2, stride=2)\n",
        "            x = F.relu(self.bn3(self.conv3(x)))\n",
        "            x = F.relu(self.bn4(self.conv4(x)))\n",
        "            x = F.max_pool2d(x, 2, stride=2)\n",
        "            x = F.relu(self.bn5(self.conv5(x)))\n",
        "\n",
        "        return x\n",
        "\n",
        "class TopLayers(nn.Module):\n",
        "    \"\"\" Top layers: one convolutional layer with 4 x 4 filter\n",
        "        size, 2x2 stride and 96 filters, followed by global max\n",
        "        pooling. The result is fed into a n_class-output softmax\n",
        "        layer. (DCN paper)\n",
        "    \"\"\"\n",
        "\n",
        "    def __init__(self):\n",
        "        super().__init__()\n",
        "        # get input of n_filters channels from coarse layers\n",
        "        self.conv1 = nn.Conv2d(n_filters_input_top, 96, kernel_size=4, stride=2)\n",
        "        self.bn1 = nn.BatchNorm2d(96)\n",
        "        \n",
        "        self.fc1 = nn.Linear(96, num_classes)\n",
        "\n",
        "\n",
        "    def forward(self, x):\n",
        "      \n",
        "        # x is [batch_size, channels, height, width] = [bs, 1, image_size, image_size]\n",
        "        x = F.relu(self.bn1(self.conv1(x)))\n",
        "        # global max pooling\n",
        "        x = F.max_pool2d(x, kernel_size=x.size()[2:])\n",
        "        \n",
        "        # x should now be a n_filters * 4 channels of 1x1\n",
        "        x = x.view(x.size(0), -1)  # flatten       \n",
        "        x = self.fc1(x)\n",
        "              \n",
        "        return x\n",
        "\n",
        "      \n",
        "def find_salient_input_regions(grads, batch_size):\n",
        "    \"\"\" Identify top k saliency scores.\n",
        "         @param : grads: gradient of the entropy with respect to features\n",
        "    \"\"\"\n",
        "    \n",
        "    # Find the saliency matrix M\n",
        "    M = torch.sqrt((torch.sum(-grads, dim=1)).pow(2))\n",
        "\n",
        "    # Flatten M to be a Batch_Size times (dim_x times dim_y feature_coarse) matrix\n",
        "    # we then choose the n_patches entries with the highest entropy\n",
        "    # for every individual picture\n",
        "    M_reshape = M.view(batch_size, -1)\n",
        "\n",
        "    values, indices = torch.topk(M_reshape, n_patches)\n",
        "\n",
        "    assert indices.shape == (batch_size, n_patches)\n",
        "\n",
        "    return indices\n",
        "\n",
        "\n",
        "class EntropyLoss(nn.Module):\n",
        "    \"\"\" Entropy loss\n",
        "    https://discuss.pytorch.org/t/calculating-the-entropy-loss/14510\"\"\"\n",
        "\n",
        "    def __init__(self):\n",
        "        super(EntropyLoss, self).__init__()\n",
        "\n",
        "    def forward(self, x):\n",
        "        b = F.softmax(x, dim=1) * F.log_softmax(x, dim=1)\n",
        "        b = -1.0 * b.sum()\n",
        "        return b\n",
        "\n",
        "\n",
        "def print_feature_map(images, arr_top_left_rectangle):\n",
        "    \"\"\" Show the patches that we will feed as inputs to the fine layers \"\"\"\n",
        "\n",
        "    ax = plt.gca()\n",
        "    \n",
        "    colors = cm.rainbow(np.linspace(0, 1, len(arr_top_left_rectangle)))\n",
        "\n",
        "    for i, s in enumerate(arr_top_left_rectangle):\n",
        "        # Taking the top left corner directly yields \n",
        "        # the rectangle in the right spot\n",
        "        ax.add_patch(Rectangle((s[0], s[1]), size_patch[0], size_patch[1],\n",
        "                               color=colors[i], fill=False, linewidth=0.6))\n",
        "    \n",
        "    if len(images) > 1:\n",
        "      ax.imshow(utils.make_grid(images[:n_images]))\n",
        "    else:\n",
        "      ax.imshow(images[0, :, :], cmap='Greys_r')\n",
        "      \n",
        "    plt.show()\n",
        " \n",
        "      \n",
        "def extract_patches(inputs, batch_size, top_left_coord):\n",
        "    \"\"\"\n",
        "        Before entering here, we are already looping\n",
        "        on the n_patches, so we now loop on all batches\n",
        "\n",
        "    @param inputs: \n",
        "    @param batch_size:\n",
        "    @param top_left_coord: top left coordinates of the patches\n",
        "    \"\"\"\n",
        "    \n",
        "    #print('inputs.shape', inputs.shape)\n",
        "    #unpacked = torch.unbind(inputs)\n",
        "    #print('unpacked.shape', unpacked.shape)\n",
        "\n",
        "    patches = []\n",
        "\n",
        "    for i in range(batch_size):\n",
        "\n",
        "        # slicing X axis from bottom left rectangle\n",
        "        # moving right increase X so this is OK\n",
        "        sliced = inputs[i].narrow(2, top_left_coord[i, 0], size_patch[0])\n",
        "\n",
        "        # because we slice second, now tensor is 3d, so we slice at 1 !\n",
        "        # to get_center_points, Y coordinates is maximum at right\n",
        "        # bottom corner, so we have to slice by going up !\n",
        "        sliced = sliced.narrow(1, top_left_coord[i, 1], size_patch[1])\n",
        "        # we should now have a shape of the size of the region\n",
        "        # that the fine model takes as input\n",
        "        assert sliced.shape == (1, size_patch[0], size_patch[1])\n",
        "\n",
        "        patches.append(sliced)\n",
        "        \n",
        "    patches = torch.stack(patches)\n",
        "\n",
        "    # Should be Batch_size x 1 x (size_patch[0] x size_patch[1])\n",
        "    assert patches.shape == (batch_size, 1, size_patch[0], size_patch[1])\n",
        "\n",
        "    return patches\n",
        "\n",
        "\n",
        "def extract_one_feature(inputs, indexes, map_h, batch_size):\n",
        "       \n",
        "    top_left_coord, idx_i, idx_j = get_fast_top_left_patches(indexes, map_h)\n",
        "    \n",
        "    patches = extract_patches(inputs, batch_size, top_left_coord)\n",
        "    \n",
        "    src_idxs = torch.cat((idx_i.view(-1, 1), idx_j.view(-1, 1)), 1).to(device)\n",
        "\n",
        "    return src_idxs, patches, top_left_coord\n",
        "\n",
        "total_time_extract_one = 0\n",
        "\n",
        "def extract_features(inputs, model_fine, batch_size,\n",
        "                     k_indexes, map_h, is_plot_feature_map):\n",
        "    \"\"\" Extract top k fine features\n",
        "    \"\"\"\n",
        "    \n",
        "    # Randomly select 1 image to visualize patches\n",
        "    random_index = random.randrange(len(inputs))\n",
        "    arr_top_left_coord_rand = []\n",
        "\n",
        "    k_src_idxs = []\n",
        "    k_patches = []\n",
        "\n",
        "    for i in range(n_patches):    \n",
        "      \n",
        "        src_idxs, patches, top_left_coord = extract_one_feature(inputs, k_indexes[:, i], map_h, batch_size)\n",
        "        \n",
        "        arr_top_left_coord_rand.append(top_left_coord[random_index, :])\n",
        "\n",
        "        k_src_idxs.append(src_idxs)\n",
        "        k_patches.append(patches)\n",
        "\n",
        "    if is_plot_feature_map:\n",
        "        # print some image of the batch with the feature map\n",
        "        assert len(arr_top_left_coord_rand) == n_patches\n",
        "        print_feature_map(inputs[random_index, :], arr_top_left_coord_rand)\n",
        "\n",
        "    concat_patches = torch.cat(k_patches, 0).to(device)\n",
        "    \n",
        "    assert concat_patches.shape == (batch_size * n_patches, 1, size_patch[0], size_patch[1])\n",
        "\n",
        "    # Now compute the fine layers on the set of patches\n",
        "    concat_k_features = model_fine(concat_patches)\n",
        "\n",
        "    k_features = torch.split(concat_k_features, n_patches, 0)\n",
        "\n",
        "    return k_features, k_src_idxs\n",
        "\n",
        "\n",
        "def replace_features(coarse_features, fine_features, replace_idxs):\n",
        "    \"\"\" Replace fine features with the corresponding coarse features\n",
        "    \"\"\"\n",
        "\n",
        "    batch_size, map_channel, map_height, map_width = coarse_features.size()\n",
        "\n",
        "    # TODO: simplify indexing\n",
        "    def _convert_to_1d_idxs(src_idxs):\n",
        "        \"\"\" Convert 2D idxs to 1D idxs\n",
        "            within 1D tensor whose shape is (b*h*w*c)\n",
        "        \"\"\"\n",
        "        batch_idx_len = map_channel * map_width * map_height\n",
        "        batch_idx_base = (torch.Tensor([i * batch_idx_len for i in range(batch_size)]).long()).to(device)\n",
        "\n",
        "        batch_1d = map_channel * map_width * src_idxs[:, 0] + map_channel * src_idxs[:, 1]\n",
        "        batch_1d = torch.add(batch_1d, batch_idx_base)\n",
        "\n",
        "        flat_idxs = [batch_1d + i for i in range(map_channel)]\n",
        "        flat_idxs = (torch.stack(flat_idxs)).t()\n",
        "        flat_idxs = flat_idxs.contiguous().view(-1)\n",
        "        return flat_idxs\n",
        "\n",
        "    # flatten coarse features\n",
        "    flat_coarse_features = coarse_features.view(-1)\n",
        "\n",
        "    # flatten fine features\n",
        "    flat_fine_features = [i.view(-1) for i in fine_features]\n",
        "    flat_fine_features = torch.cat(flat_fine_features, 0)\n",
        "\n",
        "    flat_fine_idxs = [_convert_to_1d_idxs(i) for i in replace_idxs]\n",
        "    flat_fine_idxs = torch.cat(flat_fine_idxs, 0)\n",
        "\n",
        "    # extract coarse features to be replaced\n",
        "    # this is required for hint-based training\n",
        "    flat_coarse_replaced = torch.gather(flat_coarse_features, 0, flat_fine_idxs)\n",
        "\n",
        "    # Make sure we are replacing the same size !\n",
        "    if flat_coarse_replaced.size() != flat_fine_features.size():\n",
        "        print('Assertion error : flat_coarse_replaced.size()', flat_coarse_replaced.size(),\n",
        "              ' !=  flat_fine_features.size()', flat_fine_features.size())\n",
        "        assert flat_coarse_replaced.size() == flat_fine_features.size()\n",
        "\n",
        "\n",
        "    # We now merge our two features, start by the coarse model\n",
        "    # and we will insert the features of the model with their indexes\n",
        "    merged = flat_coarse_features\n",
        "    # Switch all the coarse features for the fine features\n",
        "    merged[flat_fine_idxs] = flat_fine_features\n",
        "\n",
        "    merged = merged.view(coarse_features.size())\n",
        "\n",
        "    # This should be Batch Size x n_filters x\n",
        "    # (size of coarse feature map = (dim_x_feature_coarse x dim_y_feature_coarse))\n",
        "    if merged.size() != (batch_size, n_filters_input_top, dim_x_feature_coarse, dim_y_feature_coarse):\n",
        "        print('Assert error : merged.size()', merged.size(), '!= batch_size', batch_size,\n",
        "              ' x n_filters_input_top', n_filters_input_top, 'x dim_x_feature_coarse', dim_x_feature_coarse,\n",
        "              ' x dim_y_feature_coarse', dim_y_feature_coarse)\n",
        "        assert merged.size() == (batch_size, n_filters_input_top, dim_x_feature_coarse, dim_y_feature_coarse)\n",
        "\n",
        "    return merged, flat_coarse_replaced, flat_fine_features\n",
        "\n",
        "\n",
        "\n",
        "def inference(inputs, model_coarse, model_fine, model_top, is_training, is_plot_feature_map):\n",
        "    \n",
        "    # Special cases\n",
        "    if only_coarse_model:\n",
        "        # Only using coarse model (for benchmark performance)\n",
        "        coarse_features = model_coarse(inputs)\n",
        "        output_coarse = model_top(coarse_features)\n",
        "        return output_coarse, torch.Tensor([0]).to(device)\n",
        "    elif only_fine_model:\n",
        "        # Only using fine model (for benchmark performance)\n",
        "        fine_features = model_fine(inputs)\n",
        "        output_fine = model_top(fine_features)\n",
        "        return output_fine, torch.Tensor([0]).to(device)\n",
        "    ######################################################\n",
        "    grads = {}\n",
        "\n",
        "    def save_grad(name):\n",
        "        def hook(grad):\n",
        "            grads[name] = grad\n",
        "\n",
        "        return hook\n",
        "\n",
        "    with torch.enable_grad():\n",
        "        entropy_loss_fn = EntropyLoss()\n",
        "        coarse_features = model_coarse(inputs)\n",
        "\n",
        "        output_coarse = model_top(coarse_features)\n",
        "        # Apply softmax on output + compute entropy\n",
        "        entropy = entropy_loss_fn(output_coarse)\n",
        "\n",
        "        # Save gradient of the entropy with respect to\n",
        "        # the coarse vectors c_{i, j}, this used for inference\n",
        "        # while training but ALSO while validating and testing !\n",
        "        coarse_features.register_hook(save_grad('y'))\n",
        "        # First time we use backward, we should set retain_graph=True\n",
        "        # to make a backward pass that will not delete intermediary results\n",
        "        entropy.backward(retain_graph=True)\n",
        "        optimizer.zero_grad()\n",
        "  \n",
        " \n",
        "    batch_size, map_channel, map_height, map_width = coarse_features.size()\n",
        "\n",
        "    # Find the top_k_indices where the entropy is maximized\n",
        "    top_k_indices = find_salient_input_regions(grads['y'], batch_size)\n",
        "    \n",
        "    # Compute the fine layers over the n_batches, and also return their indices\n",
        "    # so we can replace the features of the coarse model by the features of the fine model\n",
        "    fine_features, fine_indexes = extract_features(inputs, model_fine, batch_size,\n",
        "                                                   top_k_indices, map_height, is_plot_feature_map)\n",
        "\n",
        "    # merge two feature maps\n",
        "    merged, flat_coarse_replaced, flat_fine_features = replace_features(coarse_features, fine_features, fine_indexes)\n",
        "\n",
        "    if add_hint_loss:\n",
        "        # Compute the Raw Hint Loss to minimize the squared distance\n",
        "        # between the coarse and fine representations\n",
        "        raw_hint_loss = torch.sum((flat_coarse_replaced - flat_fine_features).pow(2), dim=0)\n",
        "\n",
        "        # scale hint loss per example in batch\n",
        "        # still does not match range of 5-25 shown in figure 2 in paper???\n",
        "        hint_loss = raw_hint_loss / (batch_size * n_patches)\n",
        "    else:\n",
        "        hint_loss = torch.Tensor([0]).to(device)\n",
        "\n",
        "    # finally, apply our model on merged features\n",
        "    output_merged = model_top(merged)\n",
        "    \n",
        "    return output_merged, hint_loss\n",
        "\n",
        "\n",
        "def train(model_coarse, model_fine, model_top, optimizer, \n",
        "          loss_fn_fine_top, epoch):\n",
        "    \n",
        "    # set to train mode\n",
        "    model_coarse.train()\n",
        "    model_fine.train()\n",
        "    model_top.train()\n",
        "\n",
        "    time_now = time.clock()\n",
        "\n",
        "    for batch_idx, (inputs, target) in enumerate(train_loader):\n",
        "\n",
        "        inputs, target = inputs.to(device), target.to(device)\n",
        "        # necessary to change to float !\n",
        "        inputs = inputs.float()\n",
        "        # target should be changed to long\n",
        "        target = target.long()\n",
        "\n",
        "        # reset grads for all models\n",
        "        optimizer.zero_grad()\n",
        "\n",
        "        is_plot_feature_map = (batch_idx == 0)\n",
        "\n",
        "        output_merged, hint_loss = inference(inputs, model_coarse, model_fine, model_top,\n",
        "                                             is_training=True, is_plot_feature_map=is_plot_feature_map)\n",
        "              \n",
        "        # Top + Fine layers only consider the cross entropy loss\n",
        "        loss_fine_and_top = loss_fn_fine_top(output_merged, target)\n",
        "        \n",
        "        # Hint loss\n",
        "        if add_hint_loss:    \n",
        "            # Combine Cross Entropy loss + hint_loss for coarse model\n",
        "            loss_coarse_model = loss_fine_and_top + hint_loss  \n",
        "            \n",
        "            for param in model_fine.parameters():\n",
        "                param.requires_grad = False\n",
        "            for param in model_top.parameters():\n",
        "                param.requires_grad = False\n",
        "        \n",
        "            # we should set retain_graph = True\n",
        "            # to make a backward pass that will not delete intermediary results\n",
        "            loss_coarse_model.backward(retain_graph=True)\n",
        "\n",
        "            for param in model_fine.parameters():\n",
        "                param.requires_grad = True\n",
        "            for param in model_top.parameters():\n",
        "                param.requires_grad = True\n",
        "            for param in model_coarse.parameters():\n",
        "                param.requires_grad = False    \n",
        "\n",
        "            loss_fine_and_top.backward()\n",
        "\n",
        "            for param in model_coarse.parameters():\n",
        "                param.requires_grad = True                \n",
        "        else:\n",
        "          # no hint loss, much simpler..\n",
        "          loss_fine_and_top.backward()\n",
        "            \n",
        "\n",
        "        optimizer.step()\n",
        "        #################\n",
        "\n",
        "        if batch_idx % 10 == 0:\n",
        "            print('\\rTrain Epoch: {} [{}/{} ({:.0f}%)] Time per epoch: {:.2f}s'   \n",
        "                  '  Total_Loss: {:.4f} (CrossEntropy: {:.2f} Hint: {:.2f})'\n",
        "                  ''.format(epoch, batch_idx * len(inputs), n_train_images, 100. * batch_idx / len(train_loader),\n",
        "                            n_train_images / (10 * batch_size) * (time.clock() - time_now),\n",
        "                            loss_fine_and_top.item() + hint_loss.item(), loss_fine_and_top.item(), hint_loss.item()),\n",
        "                  end='')\n",
        "            time_now = time.clock()\n",
        "\n",
        "\n",
        "def test(model_coarse, model_fine, model_top, test_loss_fn_fine_top, loader):\n",
        "    # First, important to set models to eval mode\n",
        "    model_coarse.eval()\n",
        "    model_fine.eval()\n",
        "    model_top.eval()\n",
        "\n",
        "    avg_test_loss, avg_hint_loss = 0, 0\n",
        "    correct = 0\n",
        "    test_size = 0\n",
        "\n",
        "    with torch.no_grad():\n",
        "        for inputs, target in loader:\n",
        "            inputs, target = inputs.to(device), target.to(device)\n",
        "            \n",
        "            inputs = inputs.float()\n",
        "            target = target.long()\n",
        "\n",
        "            output_merged, hint_loss = inference(inputs, model_coarse, model_fine, model_top,\n",
        "                                                 is_training=False, is_plot_feature_map=False)\n",
        "\n",
        "            test_size += len(inputs)\n",
        "            # sum up batch loss\n",
        "            avg_test_loss += test_loss_fn_fine_top(output_merged, target).item()\n",
        "            avg_hint_loss += len(inputs) * hint_loss.item()\n",
        "            pred = output_merged.max(1, keepdim=True)[1]  # get the index of the max log-probability\n",
        "            correct += pred.eq(target.view_as(pred)).sum().item()\n",
        "\n",
        "    avg_test_loss /= test_size\n",
        "    avg_hint_loss /= test_size\n",
        "    accuracy = correct / test_size\n",
        "    print('\\nTest set: Avg_Total_Loss: {:.4f} (CrossEntropy: {:.2f} Hint: {:.2f})' \n",
        "          '  Accuracy: {}/{} ({:.0f}%)\\n'\n",
        "          .format(avg_test_loss + avg_hint_loss, avg_test_loss, avg_hint_loss, \n",
        "                  correct, test_size, 100. * accuracy))\n",
        "\n",
        "    return avg_test_loss, accuracy\n",
        "\n",
        "\n",
        "\n",
        "RF_coarse, out_size_coarse = compute_RF_numerical(CoarseLayers(True).to(device), np.ones((1, 1, image_size, image_size)))\n",
        "dim_x_feature_coarse, dim_y_feature_coarse = out_size_coarse[2], out_size_coarse[3]\n",
        "print('receptive field coarse model =', RF_coarse, 'out.size() =', out_size_coarse)\n",
        "print('--------------------------------------------------------')\n",
        "RF_fine, out_size_fine = compute_RF_numerical(FineLayers(True).to(device), np.ones((1, 1, size_patch[0],\n",
        "                                                                                    size_patch[1])))\n",
        "print('receptive field fine model =', RF_fine, 'out.size() =', out_size_fine)\n",
        "# For Fine model ---> input is patch_size and should output a SINGLE number\n",
        "print('--------------------------------------------------------')\n",
        "\n",
        "\n",
        "\n",
        "\n"
      ],
      "execution_count": 53,
      "outputs": [
        {
          "output_type": "stream",
          "text": [
            "(0, 0, 11, 11)\n",
            "receptive field coarse model = [11, 11] out.size() = torch.Size([1, 24, 23, 23])\n",
            "--------------------------------------------------------\n",
            "(0, 0, 0, 0)\n",
            "receptive field fine model = [14, 14] out.size() = torch.Size([1, 24, 1, 1])\n",
            "--------------------------------------------------------\n"
          ],
          "name": "stdout"
        }
      ]
    },
    {
      "metadata": {
        "id": "nYoL9VY38Vf4",
        "colab_type": "text"
      },
      "cell_type": "markdown",
      "source": [
        "Run the model"
      ]
    },
    {
      "metadata": {
        "id": "qDn3LAMU5--J",
        "colab_type": "code",
        "outputId": "de7fdf35-ea7f-485f-a3c5-940d20c8d5ac",
        "colab": {
          "base_uri": "https://localhost:8080/",
          "height": 5728
        }
      },
      "cell_type": "code",
      "source": [
        "n_epochs = 30\n",
        "\n",
        "model_coarse = CoarseLayers(False).to(device)\n",
        "\n",
        "model_fine = FineLayers(False).to(device)\n",
        "model_top_layers = TopLayers().to(device)\n",
        "\n",
        "# This is the loss *PLUS* the hint loss\n",
        "loss_fn_fine_top = nn.CrossEntropyLoss()\n",
        "test_loss_fn_fine_top = nn.CrossEntropyLoss(reduction='sum')\n",
        "\n",
        "learning_rate = 0.001\n",
        "# Adam optimizer\n",
        "if only_coarse_model:\n",
        "    optimizer = optim.Adam(list(model_coarse.parameters())\n",
        "                           + list(model_top_layers.parameters()), lr=learning_rate)\n",
        "elif only_fine_model:\n",
        "    optimizer = optim.Adam(list(model_fine.parameters())\n",
        "                           + list(model_top_layers.parameters()), lr=learning_rate)\n",
        "else:\n",
        "    optimizer = optim.Adam(list(model_coarse.parameters())\n",
        "                           + list(model_fine.parameters())\n",
        "                           + list(model_top_layers.parameters()), lr=learning_rate)\n",
        "\n",
        "    \n",
        "# Save learning curves\n",
        "savedir = added_path + 'results'\n",
        "if not os.path.exists(savedir):\n",
        "    os.makedirs(savedir)\n",
        "\n",
        "results = {'name': 'basic', 'lr': learning_rate, 'loss': [], 'accuracy': []}\n",
        "savefile = os.path.join(savedir, results['name'] + str(results['lr']) + '.pkl')\n",
        "\n",
        "for ep in range(n_epochs):\n",
        "    train(model_coarse, model_fine, model_top_layers, optimizer, loss_fn_fine_top, ep)\n",
        "    loss, acc = test(model_coarse, model_fine, model_top_layers, test_loss_fn_fine_top, valid_loader)\n",
        "\n",
        "    # save results every epoch\n",
        "    results['loss'].append(loss)\n",
        "    results['accuracy'].append(acc)\n",
        "    with open(savefile, 'wb') as fout:\n",
        "        pickle.dump(results, fout)\n",
        "\n",
        "\n",
        "# at the end, do test set\n",
        "\n",
        "print('Checking accuracy on test set')            \n",
        "test(model_coarse, model_fine, model_top_layers, test_loss_fn_fine_top, test_loader)\n"
      ],
      "execution_count": 0,
      "outputs": [
        {
          "output_type": "display_data",
          "data": {
            "image/png": "[encoded data removed]",
            "text/plain": [
              "<Figure size 576x396 with 1 Axes>"
            ]
          },
          "metadata": {
            "tags": []
          }
        },
        {
          "output_type": "stream",
          "text": [
            "Train Epoch: 0 [19200/20000 (96%)] Time per epoch: 31.56s  Total_Loss: 3.4424 (CrossEntropy: 1.65 Hint: 1.79)\n",
            "Test set: Avg_Total_Loss: 3.0949 (CrossEntropy: 1.42 Hint: 1.67)  Accuracy: 5831/10000 (58%)\n",
            "\n"
          ],
          "name": "stdout"
        },
        {
          "output_type": "display_data",
          "data": {
            "image/png": "[encoded data removed]",
            "text/plain": [
              "<Figure size 576x396 with 1 Axes>"
            ]
          },
          "metadata": {
            "tags": []
          }
        },
        {
          "output_type": "stream",
          "text": [
            "Train Epoch: 1 [19200/20000 (96%)] Time per epoch: 31.61s  Total_Loss: 1.2923 (CrossEntropy: 0.84 Hint: 0.46)\n",
            "Test set: Avg_Total_Loss: 1.0583 (CrossEntropy: 0.60 Hint: 0.46)  Accuracy: 8381/10000 (84%)\n",
            "\n"
          ],
          "name": "stdout"
        },
        {
          "output_type": "display_data",
          "data": {
            "image/png": "[encoded data removed]",
            "text/plain": [
              "<Figure size 576x396 with 1 Axes>"
            ]
          },
          "metadata": {
            "tags": []
          }
        },
        {
          "output_type": "stream",
          "text": [
            "Train Epoch: 2 [19200/20000 (96%)] Time per epoch: 31.59s  Total_Loss: 0.8152 (CrossEntropy: 0.63 Hint: 0.18)\n",
            "Test set: Avg_Total_Loss: 0.6260 (CrossEntropy: 0.39 Hint: 0.24)  Accuracy: 8938/10000 (89%)\n",
            "\n"
          ],
          "name": "stdout"
        },
        {
          "output_type": "display_data",
          "data": {
            "image/png": "[encoded data removed]",
            "text/plain": [
              "<Figure size 576x396 with 1 Axes>"
            ]
          },
          "metadata": {
            "tags": []
          }
        },
        {
          "output_type": "stream",
          "text": [
            "Train Epoch: 3 [19200/20000 (96%)] Time per epoch: 31.89s  Total_Loss: 0.6469 (CrossEntropy: 0.51 Hint: 0.13)\n",
            "Test set: Avg_Total_Loss: 0.5142 (CrossEntropy: 0.31 Hint: 0.20)  Accuracy: 9131/10000 (91%)\n",
            "\n"
          ],
          "name": "stdout"
        },
        {
          "output_type": "display_data",
          "data": {
            "image/png": "[encoded data removed]",
            "text/plain": [
              "<Figure size 576x396 with 1 Axes>"
            ]
          },
          "metadata": {
            "tags": []
          }
        },
        {
          "output_type": "stream",
          "text": [
            "Train Epoch: 4 [19200/20000 (96%)] Time per epoch: 31.70s  Total_Loss: 0.6301 (CrossEntropy: 0.53 Hint: 0.10)\n",
            "Test set: Avg_Total_Loss: 0.3600 (CrossEntropy: 0.26 Hint: 0.10)  Accuracy: 9225/10000 (92%)\n",
            "\n"
          ],
          "name": "stdout"
        },
        {
          "output_type": "display_data",
          "data": {
            "image/png": "[encoded data removed]",
            "text/plain": [
              "<Figure size 576x396 with 1 Axes>"
            ]
          },
          "metadata": {
            "tags": []
          }
        },
        {
          "output_type": "stream",
          "text": [
            "Train Epoch: 5 [19200/20000 (96%)] Time per epoch: 32.18s  Total_Loss: 0.4495 (CrossEntropy: 0.36 Hint: 0.09)\n",
            "Test set: Avg_Total_Loss: 0.3337 (CrossEntropy: 0.24 Hint: 0.09)  Accuracy: 9276/10000 (93%)\n",
            "\n"
          ],
          "name": "stdout"
        },
        {
          "output_type": "display_data",
          "data": {
            "image/png": "[encoded data removed]",
            "text/plain": [
              "<Figure size 576x396 with 1 Axes>"
            ]
          },
          "metadata": {
            "tags": []
          }
        },
        {
          "output_type": "stream",
          "text": [
            "Train Epoch: 6 [19200/20000 (96%)] Time per epoch: 32.07s  Total_Loss: 0.4953 (CrossEntropy: 0.44 Hint: 0.06)\n",
            "Test set: Avg_Total_Loss: 0.2912 (CrossEntropy: 0.23 Hint: 0.06)  Accuracy: 9311/10000 (93%)\n",
            "\n"
          ],
          "name": "stdout"
        },
        {
          "output_type": "display_data",
          "data": {
            "image/png": "[encoded data removed]",
            "text/plain": [
              "<Figure size 576x396 with 1 Axes>"
            ]
          },
          "metadata": {
            "tags": []
          }
        },
        {
          "output_type": "stream",
          "text": [
            "Train Epoch: 7 [19200/20000 (96%)] Time per epoch: 32.01s  Total_Loss: 0.3931 (CrossEntropy: 0.34 Hint: 0.06)\n",
            "Test set: Avg_Total_Loss: 0.2776 (CrossEntropy: 0.21 Hint: 0.07)  Accuracy: 9364/10000 (94%)\n",
            "\n"
          ],
          "name": "stdout"
        },
        {
          "output_type": "display_data",
          "data": {
            "image/png": "[encoded data removed]",
            "text/plain": [
              "<Figure size 576x396 with 1 Axes>"
            ]
          },
          "metadata": {
            "tags": []
          }
        },
        {
          "output_type": "stream",
          "text": [
            "Train Epoch: 8 [19200/20000 (96%)] Time per epoch: 31.53s  Total_Loss: 0.4145 (CrossEntropy: 0.36 Hint: 0.06)\n",
            "Test set: Avg_Total_Loss: 0.2698 (CrossEntropy: 0.21 Hint: 0.06)  Accuracy: 9365/10000 (94%)\n",
            "\n"
          ],
          "name": "stdout"
        },
        {
          "output_type": "display_data",
          "data": {
            "image/png": "[encoded data removed]",
            "text/plain": [
              "<Figure size 576x396 with 1 Axes>"
            ]
          },
          "metadata": {
            "tags": []
          }
        },
        {
          "output_type": "stream",
          "text": [
            "Train Epoch: 9 [19200/20000 (96%)] Time per epoch: 32.11s  Total_Loss: 0.3980 (CrossEntropy: 0.35 Hint: 0.05)\n",
            "Test set: Avg_Total_Loss: 0.2501 (CrossEntropy: 0.20 Hint: 0.05)  Accuracy: 9387/10000 (94%)\n",
            "\n"
          ],
          "name": "stdout"
        },
        {
          "output_type": "display_data",
          "data": {
            "image/png": "[encoded data removed]",
            "text/plain": [
              "<Figure size 576x396 with 1 Axes>"
            ]
          },
          "metadata": {
            "tags": []
          }
        },
        {
          "output_type": "stream",
          "text": [
            "Train Epoch: 10 [19200/20000 (96%)] Time per epoch: 32.03s  Total_Loss: 0.3623 (CrossEntropy: 0.32 Hint: 0.04)\n",
            "Test set: Avg_Total_Loss: 0.2205 (CrossEntropy: 0.18 Hint: 0.04)  Accuracy: 9452/10000 (95%)\n",
            "\n"
          ],
          "name": "stdout"
        },
        {
          "output_type": "display_data",
          "data": {
            "image/png": "[encoded data removed]",
            "text/plain": [
              "<Figure size 576x396 with 1 Axes>"
            ]
          },
          "metadata": {
            "tags": []
          }
        },
        {
          "output_type": "stream",
          "text": [
            "Train Epoch: 11 [19200/20000 (96%)] Time per epoch: 32.06s  Total_Loss: 0.2788 (CrossEntropy: 0.24 Hint: 0.04)\n",
            "Test set: Avg_Total_Loss: 0.2145 (CrossEntropy: 0.18 Hint: 0.03)  Accuracy: 9432/10000 (94%)\n",
            "\n"
          ],
          "name": "stdout"
        },
        {
          "output_type": "display_data",
          "data": {
            "image/png": "[encoded data removed]",
            "text/plain": [
              "<Figure size 576x396 with 1 Axes>"
            ]
          },
          "metadata": {
            "tags": []
          }
        },
        {
          "output_type": "stream",
          "text": [
            "Train Epoch: 12 [19200/20000 (96%)] Time per epoch: 32.24s  Total_Loss: 0.3761 (CrossEntropy: 0.33 Hint: 0.04)\n",
            "Test set: Avg_Total_Loss: 0.2189 (CrossEntropy: 0.18 Hint: 0.04)  Accuracy: 9449/10000 (94%)\n",
            "\n"
          ],
          "name": "stdout"
        },
        {
          "output_type": "display_data",
          "data": {
            "image/png": "[encoded data removed]",
            "text/plain": [
              "<Figure size 576x396 with 1 Axes>"
            ]
          },
          "metadata": {
            "tags": []
          }
        },
        {
          "output_type": "stream",
          "text": [
            "Train Epoch: 13 [19200/20000 (96%)] Time per epoch: 31.92s  Total_Loss: 0.3852 (CrossEntropy: 0.35 Hint: 0.04)\n",
            "Test set: Avg_Total_Loss: 0.2136 (CrossEntropy: 0.18 Hint: 0.04)  Accuracy: 9455/10000 (95%)\n",
            "\n"
          ],
          "name": "stdout"
        },
        {
          "output_type": "display_data",
          "data": {
            "image/png": "[encoded data removed]",
            "text/plain": [
              "<Figure size 576x396 with 1 Axes>"
            ]
          },
          "metadata": {
            "tags": []
          }
        },
        {
          "output_type": "stream",
          "text": [
            "Train Epoch: 14 [12800/20000 (64%)] Time per epoch: 32.05s  Total_Loss: 0.2775 (CrossEntropy: 0.24 Hint: 0.03)"
          ],
          "name": "stdout"
        }
      ]
    }
  ]
}